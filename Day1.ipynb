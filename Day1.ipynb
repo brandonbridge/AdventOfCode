{
 "cells": [
  {
   "cell_type": "markdown",
   "metadata": {},
   "source": [
    "### --- Day 1: Report Repair ---\n",
    "\n",
    "After saving Christmas five years in a row, you've decided to take a vacation at a nice resort on a tropical island. Surely, Christmas will go on without you.\n",
    "\n",
    "The tropical island has its own currency and is entirely cash-only. The gold coins used there have a little picture of a starfish; the locals just call them stars. None of the currency exchanges seem to have heard of them, but somehow, you'll need to find fifty of these coins by the time you arrive so you can pay the deposit on your room.\n",
    "\n",
    "To save your vacation, you need to get all fifty stars by December 25th.\n",
    "\n",
    "Collect stars by solving puzzles. Two puzzles will be made available on each day in the Advent calendar; the second puzzle is unlocked when you complete the first. Each puzzle grants one star. Good luck!\n",
    "\n",
    "Before you leave, the Elves in accounting just need you to fix your expense report (your puzzle input); apparently, something isn't quite adding up.\n",
    "\n",
    "Specifically, they need you to find the two entries that sum to 2020 and then multiply those two numbers together.\n",
    "\n",
    "For example, suppose your expense report contained the following:\n",
    "\n",
    "1721\n",
    "979\n",
    "366\n",
    "299\n",
    "675\n",
    "1456\n",
    "\n",
    "In this list, the two entries that sum to 2020 are 1721 and 299. Multiplying them together produces 1721 * 299 = 514579, so the correct answer is 514579.\n",
    "\n",
    "Of course, your expense report is much larger. \n",
    "#### Find the two entries that sum to 2020; what do you get if you multiply them together?\n"
   ]
  },
  {
   "cell_type": "code",
   "execution_count": 7,
   "metadata": {},
   "outputs": [],
   "source": [
    "import pandas as pd"
   ]
  },
  {
   "cell_type": "code",
   "execution_count": 8,
   "metadata": {},
   "outputs": [
    {
     "data": {
      "text/plain": [
       "0      1975\n",
       "1      1600\n",
       "2       113\n",
       "3      1773\n",
       "4      1782\n",
       "       ... \n",
       "195    1646\n",
       "196    1231\n",
       "197    1140\n",
       "198    1088\n",
       "199    1322\n",
       "Name: 0, Length: 200, dtype: int64"
      ]
     },
     "execution_count": 8,
     "metadata": {},
     "output_type": "execute_result"
    }
   ],
   "source": [
    "df = pd.read_csv('input01.csv', header=None)\n",
    "df[0]#[1]"
   ]
  },
  {
   "cell_type": "code",
   "execution_count": 9,
   "metadata": {},
   "outputs": [
    {
     "name": "stdout",
     "output_type": "stream",
     "text": [
      "entry 1: 1632\n",
      "entry 2: 388\n",
      "answer: 633216\n",
      "entry 1: 388\n",
      "entry 2: 1632\n",
      "answer: 633216\n"
     ]
    }
   ],
   "source": [
    "for i in range(200):\n",
    "    for j in df[0]:\n",
    "        ent_sum = df[0][i] + j\n",
    "        if ent_sum == 2020:\n",
    "            print(\"entry 1: %d\" %(df[0][i]))\n",
    "            print(\"entry 2: %d\" %(j))\n",
    "            print(\"answer: %d\" %(df[0][i] * j))"
   ]
  },
  {
   "cell_type": "markdown",
   "metadata": {},
   "source": [
    "### --- Part Two ---\n",
    "\n",
    "The Elves in accounting are thankful for your help; one of them even offers you a starfish coin they had left over from a past vacation. They offer you a second one if you can find three numbers in your expense report that meet the same criteria.\n",
    "\n",
    "Using the above example again, the three entries that sum to 2020 are 979, 366, and 675. Multiplying them together produces the answer, 241861950.\n",
    "\n",
    "#### In your expense report, what is the product of the three entries that sum to 2020?\n"
   ]
  },
  {
   "cell_type": "code",
   "execution_count": 10,
   "metadata": {},
   "outputs": [
    {
     "name": "stdout",
     "output_type": "stream",
     "text": [
      "entry 1: 1607\n",
      "entry 2: 196\n",
      "entry 3: 217\n",
      "answer: 68348924 \n",
      "\n",
      "entry 1: 1607\n",
      "entry 2: 217\n",
      "entry 3: 196\n",
      "answer: 68348924 \n",
      "\n",
      "entry 1: 196\n",
      "entry 2: 1607\n",
      "entry 3: 217\n",
      "answer: 68348924 \n",
      "\n",
      "entry 1: 196\n",
      "entry 2: 217\n",
      "entry 3: 1607\n",
      "answer: 68348924 \n",
      "\n",
      "entry 1: 217\n",
      "entry 2: 1607\n",
      "entry 3: 196\n",
      "answer: 68348924 \n",
      "\n",
      "entry 1: 217\n",
      "entry 2: 196\n",
      "entry 3: 1607\n",
      "answer: 68348924 \n",
      "\n"
     ]
    }
   ],
   "source": [
    "for i in range(200):\n",
    "    for j in df[0]:\n",
    "        for h in df[0]:\n",
    "            ent_sum = df[0][i] + j + h\n",
    "            if ent_sum == 2020:\n",
    "                print(\"entry 1: %d\" %(df[0][i]))\n",
    "                print(\"entry 2: %d\" %(j))\n",
    "                print(\"entry 3: %d\" %(h))\n",
    "                print(\"answer: %d \\n\" %(df[0][i] * j * h))"
   ]
  }
 ],
 "metadata": {
  "kernelspec": {
   "display_name": "Python 3",
   "language": "python",
   "name": "python3"
  },
  "language_info": {
   "codemirror_mode": {
    "name": "ipython",
    "version": 3
   },
   "file_extension": ".py",
   "mimetype": "text/x-python",
   "name": "python",
   "nbconvert_exporter": "python",
   "pygments_lexer": "ipython3",
   "version": "3.7.5"
  }
 },
 "nbformat": 4,
 "nbformat_minor": 4
}
